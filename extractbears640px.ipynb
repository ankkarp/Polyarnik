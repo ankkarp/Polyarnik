{
 "cells": [
  {
   "cell_type": "code",
   "execution_count": 1,
   "id": "291e1e0f",
   "metadata": {
    "execution": {
     "iopub.execute_input": "2022-09-24T15:46:02.580778Z",
     "iopub.status.busy": "2022-09-24T15:46:02.579269Z",
     "iopub.status.idle": "2022-09-24T15:46:02.592393Z",
     "shell.execute_reply": "2022-09-24T15:46:02.591526Z"
    },
    "papermill": {
     "duration": 0.021378,
     "end_time": "2022-09-24T15:46:02.595021",
     "exception": false,
     "start_time": "2022-09-24T15:46:02.573643",
     "status": "completed"
    },
    "tags": []
   },
   "outputs": [],
   "source": [
    "from PIL import Image\n",
    "import numpy as np\n",
    "from tqdm import tqdm\n",
    "import os"
   ]
  },
  {
   "cell_type": "code",
   "execution_count": 2,
   "id": "b42851c0",
   "metadata": {
    "execution": {
     "iopub.execute_input": "2022-09-24T15:46:02.602164Z",
     "iopub.status.busy": "2022-09-24T15:46:02.601469Z",
     "iopub.status.idle": "2022-09-24T15:46:02.607115Z",
     "shell.execute_reply": "2022-09-24T15:46:02.606057Z"
    },
    "papermill": {
     "duration": 0.011873,
     "end_time": "2022-09-24T15:46:02.609590",
     "exception": false,
     "start_time": "2022-09-24T15:46:02.597717",
     "status": "completed"
    },
    "tags": []
   },
   "outputs": [],
   "source": [
    "def load_imgs(path):\n",
    "    return [Image.open(os.path.join(path, file)).convert(\"RGBA\") for file in sorted(os.listdir(path))]"
   ]
  },
  {
   "cell_type": "code",
   "execution_count": 3,
   "id": "2445555a",
   "metadata": {
    "execution": {
     "iopub.execute_input": "2022-09-24T15:46:02.616321Z",
     "iopub.status.busy": "2022-09-24T15:46:02.615408Z",
     "iopub.status.idle": "2022-09-24T15:46:02.632944Z",
     "shell.execute_reply": "2022-09-24T15:46:02.631622Z"
    },
    "papermill": {
     "duration": 0.023749,
     "end_time": "2022-09-24T15:46:02.635631",
     "exception": false,
     "start_time": "2022-09-24T15:46:02.611882",
     "status": "completed"
    },
    "tags": []
   },
   "outputs": [],
   "source": [
    "def get_bears(bears_path, masks_path, save_path='./only_bears'):\n",
    "    images = load_imgs(bears_path)\n",
    "    masks = load_imgs(masks_path)\n",
    "    bears = []\n",
    "    masks_save_path = os.path.join(save_path, \"masks\")\n",
    "    bears_save_path = os.path.join(save_path, \"bears\")\n",
    "    os.makedirs(masks_save_path, exist_ok=True)\n",
    "    os.makedirs(bears_save_path, exist_ok=True)\n",
    "    for i in tqdm(range(len(images))):\n",
    "        bear_arr = []\n",
    "        bear = images[i].copy()\n",
    "        assert images[i].size == masks[i].size\n",
    "        for image_px, mask_px in zip(images[i].getdata(), masks[i].getdata()):\n",
    "            if mask_px == (0, 0, 0, 255):\n",
    "                bear_arr.append((255, 255, 255, 0))\n",
    "            else:\n",
    "                bear_arr.append(image_px)\n",
    "        bear.putdata(bear_arr)\n",
    "        bears.append(bear)\n",
    "        masks[i].save(os.path.join(masks_save_path, f'{i}.PNG'))\n",
    "        bears[i].save(os.path.join(bears_save_path, f'{i}.PNG'))"
   ]
  },
  {
   "cell_type": "code",
   "execution_count": 4,
   "id": "8cb3b7c6",
   "metadata": {
    "execution": {
     "iopub.execute_input": "2022-09-24T15:46:02.641711Z",
     "iopub.status.busy": "2022-09-24T15:46:02.641096Z",
     "iopub.status.idle": "2022-09-24T15:46:14.178210Z",
     "shell.execute_reply": "2022-09-24T15:46:14.176636Z"
    },
    "papermill": {
     "duration": 11.543328,
     "end_time": "2022-09-24T15:46:14.181131",
     "exception": false,
     "start_time": "2022-09-24T15:46:02.637803",
     "status": "completed"
    },
    "tags": []
   },
   "outputs": [
    {
     "name": "stderr",
     "output_type": "stream",
     "text": [
      "100%|██████████| 35/35 [00:10<00:00,  3.48it/s]\n"
     ]
    }
   ],
   "source": [
    "get_bears('../input/polarbears640px/bears', '../input/polarbears640px/masks')"
   ]
  }
 ],
 "metadata": {
  "kernelspec": {
   "display_name": "Python 3",
   "language": "python",
   "name": "python3"
  },
  "language_info": {
   "codemirror_mode": {
    "name": "ipython",
    "version": 3
   },
   "file_extension": ".py",
   "mimetype": "text/x-python",
   "name": "python",
   "nbconvert_exporter": "python",
   "pygments_lexer": "ipython3",
   "version": "3.7.12"
  },
  "papermill": {
   "default_parameters": {},
   "duration": 22.133994,
   "end_time": "2022-09-24T15:46:15.009766",
   "environment_variables": {},
   "exception": null,
   "input_path": "__notebook__.ipynb",
   "output_path": "__notebook__.ipynb",
   "parameters": {},
   "start_time": "2022-09-24T15:45:52.875772",
   "version": "2.3.4"
  }
 },
 "nbformat": 4,
 "nbformat_minor": 5
}
